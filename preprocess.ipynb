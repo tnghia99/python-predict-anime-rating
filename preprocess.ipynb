{
 "cells": [
  {
   "cell_type": "code",
   "execution_count": 18,
   "metadata": {},
   "outputs": [],
   "source": [
    "import pandas as pd\n",
    "import numpy as np"
   ]
  },
  {
   "cell_type": "code",
   "execution_count": 19,
   "metadata": {},
   "outputs": [],
   "source": [
    "def get_data(url):\n",
    "    data_frame = pd.read_csv(url)\n",
    "    return data_frame"
   ]
  },
  {
   "cell_type": "code",
   "execution_count": 20,
   "metadata": {},
   "outputs": [],
   "source": [
    "def remove_empty_value(data_frame):\n",
    "    # Chuyển đổi số tập thành dữ liệu dạng số\n",
    "    data_frame[\"episodes\"] = pd.to_numeric(data_frame[\"episodes\"], errors='coerce')\n",
    "    # Xóa dòng dữ liệu khiếm khuyết\n",
    "    data_frame = data_frame.dropna()\n",
    "\n",
    "    return data_frame"
   ]
  },
  {
   "cell_type": "code",
   "execution_count": 21,
   "metadata": {},
   "outputs": [],
   "source": [
    "def split_genre(genre_data):\n",
    "    genre_data = genre_data.transform(lambda text: text.str.split(', '))\n",
    "    return genre_data"
   ]
  },
  {
   "cell_type": "code",
   "execution_count": 22,
   "metadata": {},
   "outputs": [],
   "source": [
    "def avg_rating(genre ,dataframe):\n",
    "    rating = []\n",
    "    for index, row in dataframe.iterrows():\n",
    "        for item in row.genre:\n",
    "            if item == genre:\n",
    "                rating.append(row.rating)\n",
    "                break\n",
    "    return sum(rating)/len(rating)"
   ]
  },
  {
   "cell_type": "code",
   "execution_count": 23,
   "metadata": {},
   "outputs": [],
   "source": [
    "# Tính giá trị trung bình rating cho từng thể loại => thể hiện sự ảnh hưởng của từng thể loại đối với rating.\n",
    "def avg_genre_rating(dataframe):\n",
    "    dict = {}\n",
    "    for row in dataframe.genre:\n",
    "        for item in row:\n",
    "            if item in dict.keys():\n",
    "                pass\n",
    "            else:\n",
    "                dict[item] = avg_rating(item, dataframe)\n",
    "    return dict"
   ]
  },
  {
   "cell_type": "code",
   "execution_count": 24,
   "metadata": {},
   "outputs": [],
   "source": [
    "# Tính giá trị trung bình rating của toàn bộ thể loại có trong một bộ anime.\n",
    "def cal_weight_of_genre(items,dict):\n",
    "    sum = 0\n",
    "#     print(items)\n",
    "    for item in items:\n",
    "        sum += dict[item]\n",
    "    return (sum/len(items))"
   ]
  },
  {
   "cell_type": "code",
   "execution_count": 25,
   "metadata": {},
   "outputs": [],
   "source": [
    "def count_and_cal_weight_type(types):\n",
    "    dict = {}\n",
    "    for type in types:\n",
    "        if type in dict.keys():\n",
    "            dict[type] += 1\n",
    "        else:\n",
    "            dict[type] = 1\n",
    "    return dict"
   ]
  },
  {
   "cell_type": "code",
   "execution_count": 26,
   "metadata": {},
   "outputs": [],
   "source": [
    "# Thay genre thành trọng số\n",
    "def replace_genre_to_numeric(genre_data,dict):\n",
    "    genre_data = genre_data.transform(lambda items:cal_weight_of_genre(items,dict))\n",
    "    return genre_data"
   ]
  },
  {
   "cell_type": "code",
   "execution_count": 27,
   "metadata": {},
   "outputs": [],
   "source": [
    "# Thay type thành trọng số\n",
    "def replace_type_to_numeric(type_data,dict):\n",
    "    type_data = type_data.transform(lambda item:dict[item])\n",
    "    return type_data"
   ]
  },
  {
   "cell_type": "code",
   "execution_count": 29,
   "metadata": {
    "scrolled": true
   },
   "outputs": [],
   "source": [
    "data_frame = get_data('/home/hyminhlee/Desktop/spark-3.0.1-bin-hadoop3.2/LR Final/archive2/archive/anime.csv')\n",
    "data_frame = remove_empty_value(data_frame)"
   ]
  },
  {
   "cell_type": "code",
   "execution_count": 30,
   "metadata": {},
   "outputs": [],
   "source": [
    "data_frame.genre = split_genre(data_frame.genre)"
   ]
  },
  {
   "cell_type": "code",
   "execution_count": 31,
   "metadata": {
    "scrolled": false
   },
   "outputs": [],
   "source": [
    "dict_genre = avg_genre_rating(data_frame)\n",
    "dict_type = count_and_cal_weight_type(data_frame.type)"
   ]
  },
  {
   "cell_type": "code",
   "execution_count": 32,
   "metadata": {
    "jupyter": {
     "outputs_hidden": true
    },
    "tags": [
     "outputPrepend"
    ]
   },
   "outputs": [],
   "source": [
    "data_frame.genre  = replace_genre_to_numeric(data_frame.genre,dict_genre)\n",
    "data_frame.type   = replace_type_to_numeric(data_frame.type,dict_type)"
   ]
  },
  {
   "cell_type": "code",
   "execution_count": 34,
   "metadata": {},
   "outputs": [],
   "source": [
    "data_frame = data_frame.drop(['anime_id','name','members'],axis=1)\n",
    "\n",
    "data_frame.to_csv('data_processed.csv',index=False)"
   ]
  },
  {
   "cell_type": "code",
   "execution_count": null,
   "metadata": {},
   "outputs": [],
   "source": []
  }
 ],
 "metadata": {
  "kernelspec": {
   "display_name": "Python 3",
   "language": "python",
   "name": "python3"
  },
  "language_info": {
   "codemirror_mode": {
    "name": "ipython",
    "version": 3
   },
   "file_extension": ".py",
   "mimetype": "text/x-python",
   "name": "python",
   "nbconvert_exporter": "python",
   "pygments_lexer": "ipython3",
   "version": "3.9.0"
  }
 },
 "nbformat": 4,
 "nbformat_minor": 4
}
